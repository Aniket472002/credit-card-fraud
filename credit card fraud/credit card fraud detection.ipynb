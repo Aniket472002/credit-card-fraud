{
 "cells": [
  {
   "cell_type": "markdown",
   "metadata": {
    "_uuid": "9027e4b0f8ddc737e1b9560eba4a4d97ef9ffcc6"
   },
   "source": [
    "<h1><center><font size=\"6\">Credit Card Fraud Detection Predictive Models</font></center></h1>\n",
    "\n",
    "\n",
    "<center><img src=\"https://stowellcrayk.com/wp-content/uploads/2024/01/credit-card-fraud.webp\" width=\"600\"></img></center>\n",
    "\n",
    "\n",
    "# <a id='0'>Content</a>\n",
    "\n",
    "- <a href='#1'>Introduction</a>  \n",
    "- <a href='#2'>Load packages</a>  \n",
    "- <a href='#3'>Read the data</a>  \n",
    "- <a href='#4'>Check the data</a>  \n",
    "    - <a href='#41'>Glimpse the data</a>  \n",
    "    - <a href='#42'>Check missing data</a>\n",
    "    - <a href='#43'>Check data unbalance</a>\n",
    "- <a href='#5'>Data exploration</a>\n",
    "- <a href='#6'>Predictive models</a>  \n",
    "    - <a href='#61'>RandomForrestClassifier</a> \n",
    "    - <a href='#62'>AdaBoostClassifier</a>     \n",
    "    - <a href='#63'>CatBoostClassifier</a> \n",
    "    - <a href='#64'>XGBoost</a> \n",
    "- <a href='#7'>Conclusions</a>\n",
    "- <a href='#8'>References</a>\n"
   ]
  },
  {
   "cell_type": "markdown",
   "metadata": {
    "_uuid": "0b64f006df02ccee229320fef8063dc5a2933c1a"
   },
   "source": [
    "# <a id=\"1\">Introduction</a>  \n",
    "\n",
    "The datasets contains transactions made by credit cards in **September 2013** by european cardholders. This dataset presents transactions that occurred in two days, where we have **492 frauds** out of **284,807 transactions**. The dataset is **highly unbalanced**, the **positive class (frauds)** account for **0.172%** of all transactions.  \n",
    "\n",
    "It contains only numerical input variables which are the result of a **PCA transformation**.   \n",
    "\n",
    "Due to confidentiality issues, there are not provided the original features and more background information about the data.  \n",
    "\n",
    "* Features **V1**, **V2**, ... **V28** are the **principal components** obtained with **PCA**;  \n",
    "* The only features which have not been transformed with PCA are **Time** and **Amount**. Feature **Time** contains the seconds elapsed between each transaction and the first transaction in the dataset. The feature **Amount** is the transaction Amount, this feature can be used for example-dependant cost-senstive learning.   \n",
    "* Feature **Class** is the response variable and it takes value **1** in case of fraud and **0** otherwise.  \n",
    "\n"
   ]
  },
  {
   "cell_type": "markdown",
   "metadata": {
    "_uuid": "e94b258fe0c91fd5bb76107c509fc896db021f2b"
   },
   "source": [
    "# <a id=\"2\">Load packages</a>"
   ]
  },
  {
   "cell_type": "code",
   "execution_count": null,
   "metadata": {
    "_uuid": "0f34e1e378b762166698b0136c57048a45e7858c",
    "execution": {
     "iopub.execute_input": "2025-01-28T20:04:55.543966Z",
     "iopub.status.busy": "2025-01-28T20:04:55.543526Z",
     "iopub.status.idle": "2025-01-28T20:05:05.808175Z",
     "shell.execute_reply": "2025-01-28T20:05:05.806891Z",
     "shell.execute_reply.started": "2025-01-28T20:04:55.543895Z"
    }
   },
   "outputs": [],
   "source": [
    "import pandas as pd \n",
    "import numpy as np\n",
    "import matplotlib\n",
    "import matplotlib.pyplot as plt\n",
    "import seaborn as sns\n",
    "%matplotlib inline \n",
    "import plotly.graph_objs as go\n",
    "import plotly.figure_factory as ff\n",
    "from plotly import tools\n",
    "from plotly.offline import download_plotlyjs, init_notebook_mode, plot, iplot\n",
    "init_notebook_mode(connected=True)\n",
    "\n",
    "\n",
    "import gc\n",
    "from datetime import datetime \n",
    "from sklearn.model_selection import train_test_split\n",
    "from sklearn.model_selection import KFold\n",
    "from sklearn.metrics import roc_auc_score\n",
    "from sklearn.ensemble import RandomForestClassifier\n",
    "from sklearn.ensemble import AdaBoostClassifier\n",
    "from catboost import CatBoostClassifier\n",
    "from sklearn import svm\n",
    "import lightgbm as lgb\n",
    "from lightgbm import LGBMClassifier\n",
    "import xgboost as xgb\n",
    "\n",
    "pd.set_option('display.max_columns', 100)\n",
    "\n",
    "\n",
    "RFC_METRIC = 'gini'  #metric used for RandomForrestClassifier\n",
    "NUM_ESTIMATORS = 100 #number of estimators used for RandomForrestClassifier\n",
    "NO_JOBS = 4 #number of parallel jobs used for RandomForrestClassifier\n",
    "\n",
    "\n",
    "#TRAIN/VALIDATION/TEST SPLIT\n",
    "#VALIDATION\n",
    "VALID_SIZE = 0.20 # simple validation using train_test_split\n",
    "TEST_SIZE = 0.20 # test size using_train_test_split\n",
    "\n",
    "#CROSS-VALIDATION\n",
    "NUMBER_KFOLDS = 5 #number of KFolds for cross-validation\n",
    "\n",
    "\n",
    "\n",
    "RANDOM_STATE = 2018\n",
    "\n",
    "MAX_ROUNDS = 1000 #lgb iterations\n",
    "EARLY_STOP = 50 #lgb early stop \n",
    "OPT_ROUNDS = 1000  #To be adjusted based on best validation rounds\n",
    "VERBOSE_EVAL = 50 #Print out metric result\n",
    "\n",
    "IS_LOCAL = False\n",
    "\n",
    "import os\n",
    "\n",
    "if(IS_LOCAL):\n",
    "    PATH=\"../input/credit-card-fraud-detection\"\n",
    "else:\n",
    "    PATH=\"../input\"\n",
    "print(os.listdir(PATH))"
   ]
  },
  {
   "cell_type": "markdown",
   "metadata": {
    "_uuid": "9eb142be459775c38046265e3b27ccbfd63ed0f6"
   },
   "source": [
    "# <a id=\"3\">Read the data</a>"
   ]
  },
  {
   "cell_type": "code",
   "execution_count": null,
   "metadata": {
    "_uuid": "42e4a9f9b53f6d46cabd00b64a0e9f52b7abcd82",
    "execution": {
     "iopub.execute_input": "2025-01-28T20:05:12.650369Z",
     "iopub.status.busy": "2025-01-28T20:05:12.649514Z",
     "iopub.status.idle": "2025-01-28T20:05:16.987174Z",
     "shell.execute_reply": "2025-01-28T20:05:16.986024Z",
     "shell.execute_reply.started": "2025-01-28T20:05:12.650331Z"
    }
   },
   "outputs": [],
   "source": [
    "data_df = pd.read_csv(PATH+\"/creditcard.csv\")"
   ]
  },
  {
   "cell_type": "markdown",
   "metadata": {
    "_uuid": "0148d5c242773fbe8a10ae54873b6e59b083398e"
   },
   "source": [
    "# <a id=\"4\">Check the data</a>"
   ]
  },
  {
   "cell_type": "code",
   "execution_count": null,
   "metadata": {
    "_uuid": "ed93a290bcf10bcf817dc9489a308d489c0cfd40",
    "execution": {
     "iopub.execute_input": "2025-01-28T20:05:18.815775Z",
     "iopub.status.busy": "2025-01-28T20:05:18.815314Z",
     "iopub.status.idle": "2025-01-28T20:05:18.822243Z",
     "shell.execute_reply": "2025-01-28T20:05:18.820795Z",
     "shell.execute_reply.started": "2025-01-28T20:05:18.815743Z"
    }
   },
   "outputs": [],
   "source": [
    "print(\"Credit Card Fraud Detection data -  rows:\",data_df.shape[0],\" columns:\", data_df.shape[1])"
   ]
  },
  {
   "cell_type": "markdown",
   "metadata": {
    "_uuid": "91c1d7ca1b2e1a15d2dd83c3478df667d6ba6ace"
   },
   "source": [
    "## <a id=\"41\">Glimpse the data</a>\n",
    "\n",
    "We start by looking to the data features (first 5 rows)."
   ]
  },
  {
   "cell_type": "code",
   "execution_count": null,
   "metadata": {
    "_uuid": "c426639fdeb77bea60513724c6c438a5e8a02f8a",
    "execution": {
     "iopub.execute_input": "2025-01-28T20:05:23.626892Z",
     "iopub.status.busy": "2025-01-28T20:05:23.626451Z",
     "iopub.status.idle": "2025-01-28T20:05:23.669276Z",
     "shell.execute_reply": "2025-01-28T20:05:23.668085Z",
     "shell.execute_reply.started": "2025-01-28T20:05:23.626832Z"
    }
   },
   "outputs": [],
   "source": [
    "data_df.head()"
   ]
  },
  {
   "cell_type": "markdown",
   "metadata": {
    "_uuid": "df10bc43389fb9e8159150a566bd52abd0dd2839"
   },
   "source": [
    "Let's look into more details to the data."
   ]
  },
  {
   "cell_type": "code",
   "execution_count": null,
   "metadata": {
    "_uuid": "8705f721907820bfc8c720f2f5ac5e0f9f28fa42",
    "execution": {
     "iopub.execute_input": "2025-01-28T20:05:26.486684Z",
     "iopub.status.busy": "2025-01-28T20:05:26.48632Z",
     "iopub.status.idle": "2025-01-28T20:05:26.982044Z",
     "shell.execute_reply": "2025-01-28T20:05:26.980889Z",
     "shell.execute_reply.started": "2025-01-28T20:05:26.486655Z"
    }
   },
   "outputs": [],
   "source": [
    "data_df.describe()"
   ]
  },
  {
   "cell_type": "markdown",
   "metadata": {
    "_uuid": "bf88e4180834a1bf7e76a583328094926fade824"
   },
   "source": [
    "Looking to the **Time** feature, we can confirm that the data contains **284,807** transactions, during 2 consecutive days (or **172792** seconds)."
   ]
  },
  {
   "cell_type": "markdown",
   "metadata": {
    "_uuid": "39299ca7dc0324113fcd854530cbe7a945cc94bb"
   },
   "source": [
    "## <a id=\"42\">Check missing data</a>  \n",
    "\n",
    "Let's check if there is any missing data."
   ]
  },
  {
   "cell_type": "code",
   "execution_count": null,
   "metadata": {
    "_uuid": "51940c5cfb59bb4720d70157c310a339ce483eb6",
    "execution": {
     "iopub.execute_input": "2025-01-28T20:05:30.287093Z",
     "iopub.status.busy": "2025-01-28T20:05:30.2867Z",
     "iopub.status.idle": "2025-01-28T20:05:30.4483Z",
     "shell.execute_reply": "2025-01-28T20:05:30.447166Z",
     "shell.execute_reply.started": "2025-01-28T20:05:30.287063Z"
    }
   },
   "outputs": [],
   "source": [
    "total = data_df.isnull().sum().sort_values(ascending = False)\n",
    "percent = (data_df.isnull().sum()/data_df.isnull().count()*100).sort_values(ascending = False)\n",
    "pd.concat([total, percent], axis=1, keys=['Total', 'Percent']).transpose()"
   ]
  },
  {
   "cell_type": "markdown",
   "metadata": {
    "_uuid": "aa67814319f2b87367a7a675d956f1aa8f806363"
   },
   "source": [
    "There is no missing data in the entire dataset."
   ]
  },
  {
   "cell_type": "markdown",
   "metadata": {
    "_uuid": "5c17d77aaa693057767dc2a0a23efbcae8f9f34e"
   },
   "source": [
    "## <a id=\"43\">Data unbalance</a>"
   ]
  },
  {
   "cell_type": "markdown",
   "metadata": {
    "_uuid": "dc1ecb4caa03723aa3e3153fe1311ed532464b54"
   },
   "source": [
    "Let's check data unbalance with respect with *target* value, i.e. **Class**."
   ]
  },
  {
   "cell_type": "code",
   "execution_count": null,
   "metadata": {
    "_uuid": "c07847fe84817c98455db7ad7e49c5d991ac58a9",
    "execution": {
     "iopub.execute_input": "2025-01-28T20:05:37.571397Z",
     "iopub.status.busy": "2025-01-28T20:05:37.571029Z",
     "iopub.status.idle": "2025-01-28T20:05:39.086548Z",
     "shell.execute_reply": "2025-01-28T20:05:39.085406Z",
     "shell.execute_reply.started": "2025-01-28T20:05:37.571362Z"
    }
   },
   "outputs": [],
   "source": [
    "temp = data_df[\"Class\"].value_counts()\n",
    "df = pd.DataFrame({'Class': temp.index,'values': temp.values})\n",
    "\n",
    "trace = go.Bar(\n",
    "    x = df['Class'],y = df['values'],\n",
    "    name=\"Credit Card Fraud Class - data unbalance (Not fraud = 0, Fraud = 1)\",\n",
    "    marker=dict(color=\"Red\"),\n",
    "    text=df['values']\n",
    ")\n",
    "data = [trace]\n",
    "layout = dict(title = 'Credit Card Fraud Class - data unbalance (Not fraud = 0, Fraud = 1)',\n",
    "          xaxis = dict(title = 'Class', showticklabels=True), \n",
    "          yaxis = dict(title = 'Number of transactions'),\n",
    "          hovermode = 'closest',width=600\n",
    "         )\n",
    "fig = dict(data=data, layout=layout)\n",
    "iplot(fig, filename='class')"
   ]
  },
  {
   "cell_type": "markdown",
   "metadata": {
    "_uuid": "77eddeb05f44c47ee4a1be98bb22bb3cb0345030"
   },
   "source": [
    "Only **492** (or **0.172%**) of transaction are fraudulent. That means the data is highly unbalanced with respect with target variable **Class**."
   ]
  },
  {
   "cell_type": "markdown",
   "metadata": {
    "_uuid": "88fc9ad3d2dde75457f3b8c5417e07cbd9564a30"
   },
   "source": [
    "# <a id=\"5\">Data exploration</a>"
   ]
  },
  {
   "cell_type": "markdown",
   "metadata": {
    "_uuid": "b3c42863cec8d34e87dc098b85b3c709ec2739c0"
   },
   "source": [
    "## Transactions in time"
   ]
  },
  {
   "cell_type": "code",
   "execution_count": null,
   "metadata": {
    "_uuid": "b9521e8cc9f179887c5dc454ed84d0ba20e55946",
    "execution": {
     "iopub.execute_input": "2025-01-28T20:05:46.224687Z",
     "iopub.status.busy": "2025-01-28T20:05:46.224353Z",
     "iopub.status.idle": "2025-01-28T20:05:48.615336Z",
     "shell.execute_reply": "2025-01-28T20:05:48.614046Z",
     "shell.execute_reply.started": "2025-01-28T20:05:46.224661Z"
    }
   },
   "outputs": [],
   "source": [
    "class_0 = data_df.loc[data_df['Class'] == 0][\"Time\"]\n",
    "class_1 = data_df.loc[data_df['Class'] == 1][\"Time\"]\n",
    "\n",
    "hist_data = [class_0, class_1]\n",
    "group_labels = ['Not Fraud', 'Fraud']\n",
    "\n",
    "fig = ff.create_distplot(hist_data, group_labels, show_hist=False, show_rug=False)\n",
    "fig['layout'].update(title='Credit Card Transactions Time Density Plot', xaxis=dict(title='Time [s]'))\n",
    "iplot(fig, filename='dist_only')"
   ]
  },
  {
   "cell_type": "markdown",
   "metadata": {
    "_uuid": "64cd713602c33ce4491492088279f26adc209674"
   },
   "source": [
    "Fraudulent transactions have a distribution more even than valid transactions - are equaly distributed in time, including the low real transaction times, during night in Europe timezone."
   ]
  },
  {
   "cell_type": "markdown",
   "metadata": {},
   "source": [
    "Let's look into more details to the time distribution of both classes transaction, as well as to aggregated values of transaction count and amount, per hour. We assume (based on observation of the time distribution of transactions) that the time unit is second."
   ]
  },
  {
   "cell_type": "code",
   "execution_count": null,
   "metadata": {
    "execution": {
     "iopub.execute_input": "2025-01-28T20:05:51.882541Z",
     "iopub.status.busy": "2025-01-28T20:05:51.882209Z",
     "iopub.status.idle": "2025-01-28T20:05:52.357412Z",
     "shell.execute_reply": "2025-01-28T20:05:52.356179Z",
     "shell.execute_reply.started": "2025-01-28T20:05:51.882514Z"
    }
   },
   "outputs": [],
   "source": [
    "data_df['Hour'] = data_df['Time'].apply(lambda x: np.floor(x / 3600))\n",
    "\n",
    "tmp = data_df.groupby(['Hour', 'Class'])['Amount'].aggregate(['min', 'max', 'count', 'sum', 'mean', 'median', 'var']).reset_index()\n",
    "df = pd.DataFrame(tmp)\n",
    "df.columns = ['Hour', 'Class', 'Min', 'Max', 'Transactions', 'Sum', 'Mean', 'Median', 'Var']\n",
    "df.head()"
   ]
  },
  {
   "cell_type": "code",
   "execution_count": null,
   "metadata": {
    "execution": {
     "iopub.execute_input": "2025-01-28T20:05:58.442487Z",
     "iopub.status.busy": "2025-01-28T20:05:58.442116Z",
     "iopub.status.idle": "2025-01-28T20:05:58.934781Z",
     "shell.execute_reply": "2025-01-28T20:05:58.933546Z",
     "shell.execute_reply.started": "2025-01-28T20:05:58.442458Z"
    }
   },
   "outputs": [],
   "source": [
    "fig, (ax1, ax2) = plt.subplots(ncols=2, figsize=(18,6))\n",
    "s = sns.lineplot(ax = ax1, x=\"Hour\", y=\"Sum\", data=df.loc[df.Class==0])\n",
    "s = sns.lineplot(ax = ax2, x=\"Hour\", y=\"Sum\", data=df.loc[df.Class==1], color=\"red\")\n",
    "plt.suptitle(\"Total Amount\")\n",
    "plt.show();"
   ]
  },
  {
   "cell_type": "code",
   "execution_count": null,
   "metadata": {
    "execution": {
     "iopub.execute_input": "2025-01-28T20:06:02.122289Z",
     "iopub.status.busy": "2025-01-28T20:06:02.121908Z",
     "iopub.status.idle": "2025-01-28T20:06:02.509411Z",
     "shell.execute_reply": "2025-01-28T20:06:02.508116Z",
     "shell.execute_reply.started": "2025-01-28T20:06:02.122263Z"
    }
   },
   "outputs": [],
   "source": [
    "fig, (ax1, ax2) = plt.subplots(ncols=2, figsize=(18,6))\n",
    "s = sns.lineplot(ax = ax1, x=\"Hour\", y=\"Transactions\", data=df.loc[df.Class==0])\n",
    "s = sns.lineplot(ax = ax2, x=\"Hour\", y=\"Transactions\", data=df.loc[df.Class==1], color=\"red\")\n",
    "plt.suptitle(\"Total Number of Transactions\")\n",
    "plt.show();"
   ]
  },
  {
   "cell_type": "code",
   "execution_count": null,
   "metadata": {
    "execution": {
     "iopub.execute_input": "2025-01-28T20:06:06.061285Z",
     "iopub.status.busy": "2025-01-28T20:06:06.060855Z",
     "iopub.status.idle": "2025-01-28T20:06:06.464675Z",
     "shell.execute_reply": "2025-01-28T20:06:06.463495Z",
     "shell.execute_reply.started": "2025-01-28T20:06:06.061255Z"
    }
   },
   "outputs": [],
   "source": [
    "fig, (ax1, ax2) = plt.subplots(ncols=2, figsize=(18,6))\n",
    "s = sns.lineplot(ax = ax1, x=\"Hour\", y=\"Mean\", data=df.loc[df.Class==0])\n",
    "s = sns.lineplot(ax = ax2, x=\"Hour\", y=\"Mean\", data=df.loc[df.Class==1], color=\"red\")\n",
    "plt.suptitle(\"Average Amount of Transactions\")\n",
    "plt.show();"
   ]
  },
  {
   "cell_type": "code",
   "execution_count": null,
   "metadata": {
    "execution": {
     "iopub.execute_input": "2025-01-28T20:06:09.548083Z",
     "iopub.status.busy": "2025-01-28T20:06:09.547716Z",
     "iopub.status.idle": "2025-01-28T20:06:09.90512Z",
     "shell.execute_reply": "2025-01-28T20:06:09.903972Z",
     "shell.execute_reply.started": "2025-01-28T20:06:09.548056Z"
    }
   },
   "outputs": [],
   "source": [
    "fig, (ax1, ax2) = plt.subplots(ncols=2, figsize=(18,6))\n",
    "s = sns.lineplot(ax = ax1, x=\"Hour\", y=\"Max\", data=df.loc[df.Class==0])\n",
    "s = sns.lineplot(ax = ax2, x=\"Hour\", y=\"Max\", data=df.loc[df.Class==1], color=\"red\")\n",
    "plt.suptitle(\"Maximum Amount of Transactions\")\n",
    "plt.show();"
   ]
  },
  {
   "cell_type": "code",
   "execution_count": null,
   "metadata": {
    "execution": {
     "iopub.execute_input": "2025-01-28T20:06:13.79615Z",
     "iopub.status.busy": "2025-01-28T20:06:13.795723Z",
     "iopub.status.idle": "2025-01-28T20:06:14.170005Z",
     "shell.execute_reply": "2025-01-28T20:06:14.168731Z",
     "shell.execute_reply.started": "2025-01-28T20:06:13.796116Z"
    }
   },
   "outputs": [],
   "source": [
    "fig, (ax1, ax2) = plt.subplots(ncols=2, figsize=(18,6))\n",
    "s = sns.lineplot(ax = ax1, x=\"Hour\", y=\"Median\", data=df.loc[df.Class==0])\n",
    "s = sns.lineplot(ax = ax2, x=\"Hour\", y=\"Median\", data=df.loc[df.Class==1], color=\"red\")\n",
    "plt.suptitle(\"Median Amount of Transactions\")\n",
    "plt.show();"
   ]
  },
  {
   "cell_type": "code",
   "execution_count": null,
   "metadata": {
    "execution": {
     "iopub.execute_input": "2025-01-28T20:06:17.171834Z",
     "iopub.status.busy": "2025-01-28T20:06:17.171462Z",
     "iopub.status.idle": "2025-01-28T20:06:17.537555Z",
     "shell.execute_reply": "2025-01-28T20:06:17.536175Z",
     "shell.execute_reply.started": "2025-01-28T20:06:17.171795Z"
    }
   },
   "outputs": [],
   "source": [
    "fig, (ax1, ax2) = plt.subplots(ncols=2, figsize=(18,6))\n",
    "s = sns.lineplot(ax = ax1, x=\"Hour\", y=\"Min\", data=df.loc[df.Class==0])\n",
    "s = sns.lineplot(ax = ax2, x=\"Hour\", y=\"Min\", data=df.loc[df.Class==1], color=\"red\")\n",
    "plt.suptitle(\"Minimum Amount of Transactions\")\n",
    "plt.show();"
   ]
  },
  {
   "cell_type": "markdown",
   "metadata": {
    "_uuid": "c4393be5698f192c6839e8d372b453ed247d40d5"
   },
   "source": [
    "## Transactions amount"
   ]
  },
  {
   "cell_type": "code",
   "execution_count": null,
   "metadata": {
    "_uuid": "639b6fec6066d52f91c6766ef372df39a39c2fe1",
    "execution": {
     "iopub.execute_input": "2025-01-28T20:06:23.217784Z",
     "iopub.status.busy": "2025-01-28T20:06:23.217434Z",
     "iopub.status.idle": "2025-01-28T20:06:23.734619Z",
     "shell.execute_reply": "2025-01-28T20:06:23.733331Z",
     "shell.execute_reply.started": "2025-01-28T20:06:23.217754Z"
    }
   },
   "outputs": [],
   "source": [
    "fig, (ax1, ax2) = plt.subplots(ncols=2, figsize=(12,6))\n",
    "s = sns.boxplot(ax = ax1, x=\"Class\", y=\"Amount\", hue=\"Class\",data=data_df, palette=\"PRGn\",showfliers=True)\n",
    "s = sns.boxplot(ax = ax2, x=\"Class\", y=\"Amount\", hue=\"Class\",data=data_df, palette=\"PRGn\",showfliers=False)\n",
    "plt.show();"
   ]
  },
  {
   "cell_type": "code",
   "execution_count": null,
   "metadata": {
    "_uuid": "2a797b1b01b66a3171197cbfc1a1a37bf36b0d57",
    "execution": {
     "iopub.execute_input": "2025-01-28T20:06:27.03066Z",
     "iopub.status.busy": "2025-01-28T20:06:27.030293Z",
     "iopub.status.idle": "2025-01-28T20:06:27.064336Z",
     "shell.execute_reply": "2025-01-28T20:06:27.062987Z",
     "shell.execute_reply.started": "2025-01-28T20:06:27.030628Z"
    }
   },
   "outputs": [],
   "source": [
    "tmp = data_df[['Amount','Class']].copy()\n",
    "class_0 = tmp.loc[tmp['Class'] == 0]['Amount']\n",
    "class_1 = tmp.loc[tmp['Class'] == 1]['Amount']\n",
    "class_0.describe()"
   ]
  },
  {
   "cell_type": "code",
   "execution_count": null,
   "metadata": {
    "_uuid": "90705320eb4f147ec29f13620e010501217b981d",
    "execution": {
     "iopub.execute_input": "2025-01-28T20:06:29.961154Z",
     "iopub.status.busy": "2025-01-28T20:06:29.960774Z",
     "iopub.status.idle": "2025-01-28T20:06:29.971105Z",
     "shell.execute_reply": "2025-01-28T20:06:29.969969Z",
     "shell.execute_reply.started": "2025-01-28T20:06:29.961126Z"
    }
   },
   "outputs": [],
   "source": [
    "class_1.describe()"
   ]
  },
  {
   "cell_type": "markdown",
   "metadata": {
    "_uuid": "a6aedd49dc678f1a022ddc98901b0a53758bc7f6"
   },
   "source": [
    "The real transaction have a larger mean value, larger Q1, smaller Q3 and Q4 and larger outliers; fraudulent transactions have a smaller Q1 and mean, larger Q4 and smaller outliers.\n",
    "\n",
    "Let's plot the fraudulent transactions (amount) against time. The time is shown is seconds from the start of the time period (totaly 48h, over 2 days)."
   ]
  },
  {
   "cell_type": "code",
   "execution_count": null,
   "metadata": {
    "_uuid": "29575f5187154024c911642bd329289199253a90",
    "execution": {
     "iopub.execute_input": "2025-01-28T20:06:38.815266Z",
     "iopub.status.busy": "2025-01-28T20:06:38.814896Z",
     "iopub.status.idle": "2025-01-28T20:06:38.855025Z",
     "shell.execute_reply": "2025-01-28T20:06:38.853949Z",
     "shell.execute_reply.started": "2025-01-28T20:06:38.815239Z"
    }
   },
   "outputs": [],
   "source": [
    "fraud = data_df.loc[data_df['Class'] == 1]\n",
    "\n",
    "trace = go.Scatter(\n",
    "    x = fraud['Time'],y = fraud['Amount'],\n",
    "    name=\"Amount\",\n",
    "     marker=dict(\n",
    "                color='rgb(238,23,11)',\n",
    "                line=dict(\n",
    "                    color='red',\n",
    "                    width=1),\n",
    "                opacity=0.5,\n",
    "            ),\n",
    "    text= fraud['Amount'],\n",
    "    mode = \"markers\"\n",
    ")\n",
    "data = [trace]\n",
    "layout = dict(title = 'Amount of fraudulent transactions',\n",
    "          xaxis = dict(title = 'Time [s]', showticklabels=True), \n",
    "          yaxis = dict(title = 'Amount'),\n",
    "          hovermode='closest'\n",
    "         )\n",
    "fig = dict(data=data, layout=layout)\n",
    "iplot(fig, filename='fraud-amount')"
   ]
  },
  {
   "cell_type": "markdown",
   "metadata": {
    "_uuid": "1f144ed18c23667fde41f190c060a8bd4990b7be"
   },
   "source": [
    "## Features correlation"
   ]
  },
  {
   "cell_type": "code",
   "execution_count": null,
   "metadata": {
    "_uuid": "2a35594b8bf2ec37febec7570d4d3a25872b648b",
    "execution": {
     "iopub.execute_input": "2025-01-28T20:06:46.061332Z",
     "iopub.status.busy": "2025-01-28T20:06:46.061012Z",
     "iopub.status.idle": "2025-01-28T20:06:47.807326Z",
     "shell.execute_reply": "2025-01-28T20:06:47.806053Z",
     "shell.execute_reply.started": "2025-01-28T20:06:46.061308Z"
    }
   },
   "outputs": [],
   "source": [
    "plt.figure(figsize = (14,14))\n",
    "plt.title('Credit Card Transactions features correlation plot (Pearson)')\n",
    "corr = data_df.corr()\n",
    "sns.heatmap(corr,xticklabels=corr.columns,yticklabels=corr.columns,linewidths=.1,cmap=\"Reds\")\n",
    "plt.show()"
   ]
  },
  {
   "cell_type": "markdown",
   "metadata": {
    "_uuid": "8db97792d1f815582f037455e9ead600f8c9433c"
   },
   "source": [
    "As expected, there is no notable correlation between features **V1**-**V28**. There are certain correlations between some of these features and **Time** (inverse correlation with **V3**) and **Amount** (direct correlation with **V7** and **V20**, inverse correlation with **V1** and **V5**).\n",
    "\n",
    "\n",
    "Let's plot the correlated and inverse correlated values on the same graph.\n",
    "\n",
    "Let's start with the direct correlated values: {V20;Amount} and {V7;Amount}."
   ]
  },
  {
   "cell_type": "code",
   "execution_count": null,
   "metadata": {
    "_uuid": "fd8f8bd03486fe3f2d7c89d00a5c0575a153d969",
    "execution": {
     "iopub.execute_input": "2025-01-28T20:06:53.278906Z",
     "iopub.status.busy": "2025-01-28T20:06:53.278554Z",
     "iopub.status.idle": "2025-01-28T20:07:22.558748Z",
     "shell.execute_reply": "2025-01-28T20:07:22.557375Z",
     "shell.execute_reply.started": "2025-01-28T20:06:53.27888Z"
    }
   },
   "outputs": [],
   "source": [
    "s = sns.lmplot(x='V20', y='Amount',data=data_df, hue='Class', fit_reg=True,scatter_kws={'s':2})\n",
    "s = sns.lmplot(x='V7', y='Amount',data=data_df, hue='Class', fit_reg=True,scatter_kws={'s':2})\n",
    "plt.show()"
   ]
  },
  {
   "cell_type": "markdown",
   "metadata": {
    "_uuid": "7430c8631e2a7b34b7d4b0dabf2fb006f88d6f8a"
   },
   "source": [
    "We can confirm that the two couples of features are correlated (the regression lines for **Class = 0** have a positive slope, whilst the regression line for **Class = 1** have a smaller positive slope).\n",
    "\n",
    "Let's plot now the inverse correlated values."
   ]
  },
  {
   "cell_type": "code",
   "execution_count": null,
   "metadata": {
    "_uuid": "4ae4211f20ba8db85b7f8f61ade2d24788be9aa4",
    "execution": {
     "iopub.execute_input": "2025-01-28T20:07:26.504298Z",
     "iopub.status.busy": "2025-01-28T20:07:26.503887Z",
     "iopub.status.idle": "2025-01-28T20:07:56.023633Z",
     "shell.execute_reply": "2025-01-28T20:07:56.022395Z",
     "shell.execute_reply.started": "2025-01-28T20:07:26.504268Z"
    }
   },
   "outputs": [],
   "source": [
    "s = sns.lmplot(x='V2', y='Amount',data=data_df, hue='Class', fit_reg=True,scatter_kws={'s':2})\n",
    "s = sns.lmplot(x='V5', y='Amount',data=data_df, hue='Class', fit_reg=True,scatter_kws={'s':2})\n",
    "plt.show()"
   ]
  },
  {
   "cell_type": "markdown",
   "metadata": {
    "_uuid": "b5e0440e0cd0c950190fffc539ddeb63de13b7fb"
   },
   "source": [
    "We can confirm that the two couples of features are inverse correlated (the regression lines for **Class = 0** have a negative slope while the regression lines for **Class = 1** have a very small negative slope).\n"
   ]
  },
  {
   "cell_type": "markdown",
   "metadata": {
    "_uuid": "5bdb7deecd32fd919f5431e8b5b02b6392ccd5bc"
   },
   "source": [
    "## Features density plot"
   ]
  },
  {
   "cell_type": "code",
   "execution_count": null,
   "metadata": {
    "_uuid": "b041d9877768c687ab4d2b314dbef5f4f3738176",
    "execution": {
     "iopub.execute_input": "2025-01-28T20:08:00.963167Z",
     "iopub.status.busy": "2025-01-28T20:08:00.96277Z",
     "iopub.status.idle": "2025-01-28T20:08:42.272162Z",
     "shell.execute_reply": "2025-01-28T20:08:42.270653Z",
     "shell.execute_reply.started": "2025-01-28T20:08:00.96314Z"
    }
   },
   "outputs": [],
   "source": [
    "var = data_df.columns.values\n",
    "\n",
    "i = 0\n",
    "t0 = data_df.loc[data_df['Class'] == 0]\n",
    "t1 = data_df.loc[data_df['Class'] == 1]\n",
    "\n",
    "sns.set_style('whitegrid')\n",
    "plt.figure()\n",
    "fig, ax = plt.subplots(8,4,figsize=(16,28))\n",
    "\n",
    "for feature in var:\n",
    "    i += 1\n",
    "    plt.subplot(8,4,i)\n",
    "    sns.kdeplot(t0[feature], bw_method=0.5,label=\"Class = 0\")\n",
    "    sns.kdeplot(t1[feature], bw_method=0.5,label=\"Class = 1\")\n",
    "    plt.xlabel(feature, fontsize=12)\n",
    "    locs, labels = plt.xticks()\n",
    "    plt.tick_params(axis='both', which='major', labelsize=12)\n",
    "plt.show();"
   ]
  },
  {
   "cell_type": "markdown",
   "metadata": {
    "_uuid": "86636e53408b574ac5f7c84d73a5d8cff5c6e23f"
   },
   "source": [
    "# <a id=\"6\">Predictive models</a>  \n",
    "\n"
   ]
  },
  {
   "cell_type": "markdown",
   "metadata": {
    "_uuid": "3de9724f89804b1e82c2b30c9767bbc0be6ac0dc"
   },
   "source": [
    "### Define predictors and target values\n",
    "\n",
    "Let's define the predictor features and the target features. Categorical features, if any, are also defined. In our case, there are no categorical feature."
   ]
  },
  {
   "cell_type": "code",
   "execution_count": null,
   "metadata": {
    "_uuid": "05466e1862ba4f872dc05faa4b4dc84430660639"
   },
   "outputs": [],
   "source": [
    "target = 'Class'\n",
    "predictors = ['Time', 'V1', 'V2', 'V3', 'V4', 'V5', 'V6', 'V7', 'V8', 'V9', 'V10',\\\n",
    "       'V11', 'V12', 'V13', 'V14', 'V15', 'V16', 'V17', 'V18', 'V19',\\\n",
    "       'V20', 'V21', 'V22', 'V23', 'V24', 'V25', 'V26', 'V27', 'V28',\\\n",
    "       'Amount']"
   ]
  },
  {
   "cell_type": "markdown",
   "metadata": {
    "_uuid": "574f8a166087bc8e95f27a9b152ffc4c1f83c4ce"
   },
   "source": [
    "### Split data in train, test and validation set\n",
    "\n",
    "Let's define train, validation and test sets."
   ]
  },
  {
   "cell_type": "code",
   "execution_count": null,
   "metadata": {
    "_uuid": "c27f7166f9a0d96a0a7135df30ae5201d5a2bb3a"
   },
   "outputs": [],
   "source": [
    "train_df, test_df = train_test_split(data_df, test_size=TEST_SIZE, random_state=RANDOM_STATE, shuffle=True )\n",
    "train_df, valid_df = train_test_split(train_df, test_size=VALID_SIZE, random_state=RANDOM_STATE, shuffle=True )"
   ]
  },
  {
   "cell_type": "markdown",
   "metadata": {
    "_uuid": "477275d990dc322046f8d16a0c0d6b942acaac4b"
   },
   "source": [
    "Let's start with a RandomForrestClassifier <a href='#8'>[3]</a>   model."
   ]
  },
  {
   "cell_type": "markdown",
   "metadata": {
    "_uuid": "046490acb18502c24c8197a4f2d1833f71ce7366"
   },
   "source": [
    "## <a id=\"61\">RandomForestClassifier</a>\n",
    "\n",
    "\n",
    "### Define model parameters\n",
    "\n",
    "Let's set the parameters for the model."
   ]
  },
  {
   "cell_type": "markdown",
   "metadata": {
    "_uuid": "13b7a22599e96474dbb275bc6658bcf87a92b774"
   },
   "source": [
    "Let's run a model using the training set for training. Then, we will use the validation set for validation. \n",
    "\n",
    "We will use as validation criterion **GINI**, which formula is **GINI = 2 * (AUC) - 1**, where **AUC** is the **Receiver Operating Characteristic - Area Under Curve (ROC-AUC)** <a href='#8'>[4]</a>.  Number of estimators is set to **100** and number of parallel jobs is set to **4**.\n",
    "\n",
    "We start by initializing the RandomForestClassifier."
   ]
  },
  {
   "cell_type": "code",
   "execution_count": null,
   "metadata": {
    "_uuid": "88cfc485083044018748f977b8e9cb13bf91a4a8"
   },
   "outputs": [],
   "source": [
    "clf = RandomForestClassifier(n_jobs=NO_JOBS, \n",
    "                             random_state=RANDOM_STATE,\n",
    "                             criterion=RFC_METRIC,\n",
    "                             n_estimators=NUM_ESTIMATORS,\n",
    "                             verbose=False)"
   ]
  },
  {
   "cell_type": "markdown",
   "metadata": {
    "_uuid": "cfcf4074dfe96da0ac2489303ab3d7d8899f4175"
   },
   "source": [
    "Let's train the **RandonForestClassifier** using the **train_df** data and **fit** function."
   ]
  },
  {
   "cell_type": "code",
   "execution_count": null,
   "metadata": {
    "_uuid": "5042efd869d672392cb81437a03719d07ae684f1"
   },
   "outputs": [],
   "source": [
    "clf.fit(train_df[predictors], train_df[target].values)"
   ]
  },
  {
   "cell_type": "markdown",
   "metadata": {
    "_uuid": "fa2d70ec9136bdf46339fb3ad408f1179015a214"
   },
   "source": [
    "Let's now predict the **target** values for the **valid_df** data, using **predict** function."
   ]
  },
  {
   "cell_type": "code",
   "execution_count": null,
   "metadata": {
    "_uuid": "976e7e8d9adec49369b81c8a14e4e676e15709c9"
   },
   "outputs": [],
   "source": [
    "preds = clf.predict(valid_df[predictors])"
   ]
  },
  {
   "cell_type": "markdown",
   "metadata": {
    "_uuid": "c2e26b3c0dc5498196784292bb7c71337291fd15"
   },
   "source": [
    "Let's also visualize the features importance.\n",
    "\n",
    "### Features importance"
   ]
  },
  {
   "cell_type": "code",
   "execution_count": null,
   "metadata": {
    "_uuid": "149ae586de1a7318f4063f2497d16b6457c5f478"
   },
   "outputs": [],
   "source": [
    "tmp = pd.DataFrame({'Feature': predictors, 'Feature importance': clf.feature_importances_})\n",
    "tmp = tmp.sort_values(by='Feature importance',ascending=False)\n",
    "plt.figure(figsize = (7,4))\n",
    "plt.title('Features importance',fontsize=14)\n",
    "s = sns.barplot(x='Feature',y='Feature importance',data=tmp)\n",
    "s.set_xticklabels(s.get_xticklabels(),rotation=90)\n",
    "plt.show()   \n"
   ]
  },
  {
   "cell_type": "markdown",
   "metadata": {
    "_uuid": "588e3a996a7108a4f1e66cda53d225e6e236bfd6"
   },
   "source": [
    "The most important features are **V17**, **V12**, **V14**, **V10**, **V11**, **V16**.\n",
    "\n",
    "\n",
    "### Confusion matrix\n",
    "\n",
    "Let's show a confusion matrix for the results we obtained. "
   ]
  },
  {
   "cell_type": "code",
   "execution_count": null,
   "metadata": {
    "_uuid": "acdc37e14e96287ea2f96c4530bfde388d8af2f2"
   },
   "outputs": [],
   "source": [
    "cm = pd.crosstab(valid_df[target].values, preds, rownames=['Actual'], colnames=['Predicted'])\n",
    "fig, (ax1) = plt.subplots(ncols=1, figsize=(5,5))\n",
    "sns.heatmap(cm, \n",
    "            xticklabels=['Not Fraud', 'Fraud'],\n",
    "            yticklabels=['Not Fraud', 'Fraud'],\n",
    "            annot=True,ax=ax1,\n",
    "            linewidths=.2,linecolor=\"Darkblue\", cmap=\"Blues\")\n",
    "plt.title('Confusion Matrix', fontsize=14)\n",
    "plt.show()"
   ]
  },
  {
   "cell_type": "code",
   "execution_count": null,
   "metadata": {
    "_uuid": "b67d0d3a695ccd69fba3b9ea576e7019d6091257"
   },
   "outputs": [],
   "source": [
    "roc_auc_score(valid_df[target].values, preds)"
   ]
  },
  {
   "cell_type": "markdown",
   "metadata": {
    "_uuid": "8b6d28b9ac4316545572d91b351f2c15bed671ba"
   },
   "source": [
    "The **ROC-AUC** score obtained with **RandomForrestClassifier** is **0.85**.\n",
    "\n",
    "\n",
    "\n"
   ]
  },
  {
   "cell_type": "markdown",
   "metadata": {
    "_uuid": "8e1fb8633dc75828f659b6d4d6b3e61d87379cb7"
   },
   "source": [
    "## <a id=\"62\">AdaBoostClassifier</a>\n",
    "\n",
    "\n",
    "AdaBoostClassifier stands for Adaptive Boosting Classifier <a href='#8'>[5]</a>.\n",
    "\n",
    "### Prepare the model\n",
    "\n",
    "Let's set the parameters for the model and initialize the model."
   ]
  },
  {
   "cell_type": "code",
   "execution_count": null,
   "metadata": {
    "_uuid": "17c5211f4f1f5f4bb406ab17d45abdc5b46c087f"
   },
   "outputs": [],
   "source": [
    "clf = AdaBoostClassifier(random_state=RANDOM_STATE,\n",
    "                         algorithm='SAMME.R',\n",
    "                         learning_rate=0.8,\n",
    "                             n_estimators=NUM_ESTIMATORS)"
   ]
  },
  {
   "cell_type": "markdown",
   "metadata": {
    "_uuid": "24263fd86b09447c3c413bf438cb262823daf338"
   },
   "source": [
    "### Fit the model\n",
    "\n",
    "Let's fit the model."
   ]
  },
  {
   "cell_type": "code",
   "execution_count": null,
   "metadata": {
    "_uuid": "1bdbe7616f0c2ab48932705e0a143c6a0a9b8049"
   },
   "outputs": [],
   "source": [
    "clf.fit(train_df[predictors], train_df[target].values)"
   ]
  },
  {
   "cell_type": "markdown",
   "metadata": {
    "_uuid": "0678f70c1bce4a0aca24de10b2c7130a702a3823"
   },
   "source": [
    "### Predict the target values\n",
    "\n",
    "Let's now predict the **target** values for the **valid_df** data, using predict function."
   ]
  },
  {
   "cell_type": "code",
   "execution_count": null,
   "metadata": {
    "_uuid": "77ddd7b77838e7b83d6a24fa6d6449ae0567b2bf"
   },
   "outputs": [],
   "source": [
    "preds = clf.predict(valid_df[predictors])"
   ]
  },
  {
   "cell_type": "markdown",
   "metadata": {
    "_uuid": "4eea5368cc69c6b499aa5c527d33f13ede9e31c0"
   },
   "source": [
    "### Features importance\n",
    "\n",
    "Let's see also the features importance."
   ]
  },
  {
   "cell_type": "code",
   "execution_count": null,
   "metadata": {
    "_uuid": "2efbe2f5f9554fa96788ad1a619fe1943ee1e6df"
   },
   "outputs": [],
   "source": [
    "tmp = pd.DataFrame({'Feature': predictors, 'Feature importance': clf.feature_importances_})\n",
    "tmp = tmp.sort_values(by='Feature importance',ascending=False)\n",
    "plt.figure(figsize = (7,4))\n",
    "plt.title('Features importance',fontsize=14)\n",
    "s = sns.barplot(x='Feature',y='Feature importance',data=tmp)\n",
    "s.set_xticklabels(s.get_xticklabels(),rotation=90)\n",
    "plt.show()   "
   ]
  },
  {
   "cell_type": "markdown",
   "metadata": {
    "_uuid": "4e4a72f967d3e0d1e7051668178eb497555a16ca"
   },
   "source": [
    "### Confusion matrix\n",
    "\n",
    "Let's visualize the confusion matrix."
   ]
  },
  {
   "cell_type": "code",
   "execution_count": null,
   "metadata": {
    "_uuid": "0adcb109549fc61381f8dcf6fd894b83f3a69809"
   },
   "outputs": [],
   "source": [
    "cm = pd.crosstab(valid_df[target].values, preds, rownames=['Actual'], colnames=['Predicted'])\n",
    "fig, (ax1) = plt.subplots(ncols=1, figsize=(5,5))\n",
    "sns.heatmap(cm, \n",
    "            xticklabels=['Not Fraud', 'Fraud'],\n",
    "            yticklabels=['Not Fraud', 'Fraud'],\n",
    "            annot=True,ax=ax1,\n",
    "            linewidths=.2,linecolor=\"Darkblue\", cmap=\"Blues\")\n",
    "plt.title('Confusion Matrix', fontsize=14)\n",
    "plt.show()"
   ]
  },
  {
   "cell_type": "markdown",
   "metadata": {
    "_uuid": "29a1e7c5d5b056fc59ef0c08f8a1091ee2f6fdff"
   },
   "source": [
    "Let's calculate also the ROC-AUC.\n",
    "\n",
    "\n",
    "### Area under curve"
   ]
  },
  {
   "cell_type": "code",
   "execution_count": null,
   "metadata": {
    "_uuid": "f95a9ced1ff6ed2257f1e21c604a2ffcf769feed"
   },
   "outputs": [],
   "source": [
    "roc_auc_score(valid_df[target].values, preds)"
   ]
  },
  {
   "cell_type": "markdown",
   "metadata": {
    "_uuid": "525a893a4f511b3fd8909f3655c9a5c20afe585c"
   },
   "source": [
    "The ROC-AUC score obtained with AdaBoostClassifier is **0.83**."
   ]
  },
  {
   "cell_type": "markdown",
   "metadata": {
    "_uuid": "719e7673307eb938cbd22422c11165e6433da036"
   },
   "source": [
    "## <a id=\"63\">CatBoostClassifier</a>\n",
    "\n",
    "\n",
    "CatBoostClassifier is a gradient boosting for decision trees algorithm with support for handling categorical data <a href='#8'>[6]</a>.\n",
    "\n",
    "### Prepare the model\n",
    "\n",
    "Let's set the parameters for the model and initialize the model."
   ]
  },
  {
   "cell_type": "code",
   "execution_count": null,
   "metadata": {
    "_uuid": "5a663cefd0b35e44bec74dda1e3ece37f430bc69"
   },
   "outputs": [],
   "source": [
    "clf = CatBoostClassifier(iterations=500,\n",
    "                             learning_rate=0.02,\n",
    "                             depth=12,\n",
    "                             eval_metric='AUC',\n",
    "                             random_seed = RANDOM_STATE,\n",
    "                             bagging_temperature = 0.2,\n",
    "                             od_type='Iter',\n",
    "                             metric_period = VERBOSE_EVAL,\n",
    "                             od_wait=100)"
   ]
  },
  {
   "cell_type": "code",
   "execution_count": null,
   "metadata": {
    "_uuid": "f571a8ac45728504d805e1b4b12e3e672a01d381"
   },
   "outputs": [],
   "source": [
    "clf.fit(train_df[predictors], train_df[target].values,verbose=True)"
   ]
  },
  {
   "cell_type": "markdown",
   "metadata": {
    "_uuid": "7fb5dfcb26fbdffb6e4526cf24bbd9a20ea2b0cf"
   },
   "source": [
    "### Predict the target values\n",
    "\n",
    "Let's now predict the **target** values for the **val_df** data, using predict function."
   ]
  },
  {
   "cell_type": "code",
   "execution_count": null,
   "metadata": {
    "_uuid": "5b1c1fbaf25f4d16c6fc3ddcf3a25a16181fea3b"
   },
   "outputs": [],
   "source": [
    "preds = clf.predict(valid_df[predictors])"
   ]
  },
  {
   "cell_type": "markdown",
   "metadata": {
    "_uuid": "f4d5e197719c2caa46451c804d616e8fd6a0d6fb"
   },
   "source": [
    "### Features importance\n",
    "\n",
    "Let's see also the features importance."
   ]
  },
  {
   "cell_type": "code",
   "execution_count": null,
   "metadata": {
    "_uuid": "afeee803fd3273651754c68619a00250e1cd524d"
   },
   "outputs": [],
   "source": [
    "tmp = pd.DataFrame({'Feature': predictors, 'Feature importance': clf.feature_importances_})\n",
    "tmp = tmp.sort_values(by='Feature importance',ascending=False)\n",
    "plt.figure(figsize = (7,4))\n",
    "plt.title('Features importance',fontsize=14)\n",
    "s = sns.barplot(x='Feature',y='Feature importance',data=tmp)\n",
    "s.set_xticklabels(s.get_xticklabels(),rotation=90)\n",
    "plt.show()   "
   ]
  },
  {
   "cell_type": "markdown",
   "metadata": {
    "_uuid": "7500dac8e4d829b2651b027dac78ea886ec95ca6"
   },
   "source": [
    "### Confusion matrix\n",
    "\n",
    "Let's visualize the confusion matrix."
   ]
  },
  {
   "cell_type": "code",
   "execution_count": null,
   "metadata": {
    "_uuid": "39ac2f75b7317e00a688d4d6872a1671e9d2da21"
   },
   "outputs": [],
   "source": [
    "cm = pd.crosstab(valid_df[target].values, preds, rownames=['Actual'], colnames=['Predicted'])\n",
    "fig, (ax1) = plt.subplots(ncols=1, figsize=(5,5))\n",
    "sns.heatmap(cm, \n",
    "            xticklabels=['Not Fraud', 'Fraud'],\n",
    "            yticklabels=['Not Fraud', 'Fraud'],\n",
    "            annot=True,ax=ax1,\n",
    "            linewidths=.2,linecolor=\"Darkblue\", cmap=\"Blues\")\n",
    "plt.title('Confusion Matrix', fontsize=14)\n",
    "plt.show()"
   ]
  },
  {
   "cell_type": "markdown",
   "metadata": {
    "_uuid": "76f9e2cec59953df1c4a5fc83333443484929dac"
   },
   "source": [
    "Let's calculate also the ROC-AUC.\n",
    "\n",
    "\n",
    "### Area under curve"
   ]
  },
  {
   "cell_type": "code",
   "execution_count": null,
   "metadata": {
    "_uuid": "701ff6a7cd11cd6556e50c9c073cbddf80555306"
   },
   "outputs": [],
   "source": [
    "roc_auc_score(valid_df[target].values, preds)"
   ]
  },
  {
   "cell_type": "markdown",
   "metadata": {
    "_uuid": "18a05c1761c673b0838dd4d4a71b2315616737e2"
   },
   "source": [
    "The ROC-AUC score obtained with CatBoostClassifier is **0.86**."
   ]
  },
  {
   "cell_type": "markdown",
   "metadata": {
    "_uuid": "39c96e378c957d251f4d7e62a4def9e71aabfd81"
   },
   "source": [
    "## <a id=\"63\">XGBoost</a>"
   ]
  },
  {
   "cell_type": "markdown",
   "metadata": {
    "_uuid": "eaad6d74ea593d3a71bedf4252ba0bb5c1617159"
   },
   "source": [
    "XGBoost is a gradient boosting algorithm <a href='#8'>[7]</a>.\n",
    "\n",
    "Let's prepare the model."
   ]
  },
  {
   "cell_type": "markdown",
   "metadata": {
    "_uuid": "fa57161424d5de2cb482848c6104b8d51901fa02"
   },
   "source": [
    "### Prepare the model\n",
    "\n",
    "We initialize the DMatrix objects for training and validation, starting from the datasets. We also set some of the parameters used for the model tuning."
   ]
  },
  {
   "cell_type": "code",
   "execution_count": null,
   "metadata": {
    "_uuid": "eeb48986db87e26413d3a5efa286d18e82c0efc6"
   },
   "outputs": [],
   "source": [
    "# Prepare the train and valid datasets\n",
    "dtrain = xgb.DMatrix(train_df[predictors], train_df[target].values)\n",
    "dvalid = xgb.DMatrix(valid_df[predictors], valid_df[target].values)\n",
    "dtest = xgb.DMatrix(test_df[predictors], test_df[target].values)\n",
    "\n",
    "#What to monitor (in this case, **train** and **valid**)\n",
    "watchlist = [(dtrain, 'train'), (dvalid, 'valid')]\n",
    "\n",
    "# Set xgboost parameters\n",
    "params = {}\n",
    "params['objective'] = 'binary:logistic'\n",
    "params['eta'] = 0.039\n",
    "params['silent'] = True\n",
    "params['max_depth'] = 2\n",
    "params['subsample'] = 0.8\n",
    "params['colsample_bytree'] = 0.9\n",
    "params['eval_metric'] = 'auc'\n",
    "params['random_state'] = RANDOM_STATE"
   ]
  },
  {
   "cell_type": "markdown",
   "metadata": {
    "_uuid": "9a6981b4ce504d3e836e19dd262c64b4b03e591a"
   },
   "source": [
    "### Train the model\n",
    "\n",
    "Let's train the model. "
   ]
  },
  {
   "cell_type": "code",
   "execution_count": null,
   "metadata": {
    "_uuid": "5d066b1791e0d2463897b8a0c797cfbc38afa846"
   },
   "outputs": [],
   "source": [
    "model = xgb.train(params, \n",
    "                dtrain, \n",
    "                MAX_ROUNDS, \n",
    "                watchlist, \n",
    "                early_stopping_rounds=EARLY_STOP, \n",
    "                maximize=True, \n",
    "                verbose_eval=VERBOSE_EVAL)"
   ]
  },
  {
   "cell_type": "markdown",
   "metadata": {
    "_uuid": "cb42148758c28251be27ce20828864b1e4df1b59"
   },
   "source": [
    "The best validation score (ROC-AUC) was **0.984**, for round **241**."
   ]
  },
  {
   "cell_type": "markdown",
   "metadata": {
    "_uuid": "ca7375264c18646c11c399fdb1aa5dfaece44bd5"
   },
   "source": [
    "### Plot variable importance"
   ]
  },
  {
   "cell_type": "code",
   "execution_count": null,
   "metadata": {
    "_uuid": "2592eeaa312ba24ead2fea4cbd7b71d4537f4a75"
   },
   "outputs": [],
   "source": [
    "fig, (ax) = plt.subplots(ncols=1, figsize=(8,5))\n",
    "xgb.plot_importance(model, height=0.8, title=\"Features importance (XGBoost)\", ax=ax, color=\"green\") \n",
    "plt.show()"
   ]
  },
  {
   "cell_type": "markdown",
   "metadata": {
    "_uuid": "eb583b48bd0ffd38cddf4ea1eb41df20b3f5d566"
   },
   "source": [
    "### Predict test set\n",
    "\n",
    "\n",
    "We used the train and validation sets for training and validation. We will use the trained model now to predict the target value for the test set."
   ]
  },
  {
   "cell_type": "code",
   "execution_count": null,
   "metadata": {
    "_uuid": "99b130c043241ecc0ea5c64df1a92940d6c458a8"
   },
   "outputs": [],
   "source": [
    "preds = model.predict(dtest)"
   ]
  },
  {
   "cell_type": "markdown",
   "metadata": {
    "_uuid": "1eca8c0e71d679a8e2743ce20cd66934f101a0ac"
   },
   "source": [
    "### Area under curve\n",
    "\n",
    "Let's calculate ROC-AUC."
   ]
  },
  {
   "cell_type": "code",
   "execution_count": null,
   "metadata": {
    "_uuid": "bb7ddd8e0f7fc14556495aaab62065e9cad7a2d3"
   },
   "outputs": [],
   "source": [
    "roc_auc_score(test_df[target].values, preds)"
   ]
  },
  {
   "cell_type": "markdown",
   "metadata": {
    "_uuid": "61683181c29747a17162ad3d0ef871949c22a4c5"
   },
   "source": [
    "The AUC score for the prediction of fresh data (test set) is **0.974**."
   ]
  },
  {
   "cell_type": "markdown",
   "metadata": {
    "_uuid": "c281bff3a66a72421dd66976494080839fdead29"
   },
   "source": [
    "# <a id=\"7\">Conclusions</a>"
   ]
  },
  {
   "cell_type": "markdown",
   "metadata": {
    "_uuid": "ac803cb42c6211a6b96b1f30075b82092a50e5d2"
   },
   "source": [
    "We investigated the data, checking for data unbalancing, visualizing the features and understanding the relationship between different features. \n",
    "We then investigated two predictive models. The data was split in 3 parts, a train set, a validation set and a test set. For the first three models, we only used the train and test set.  \n",
    "\n",
    "We started with **RandomForrestClassifier**, for which we obtained an AUC scode of **0.85** when predicting the target for the test set.  \n",
    "\n",
    "We followed with an **AdaBoostClassifier** model, with lower AUC score (**0.83**) for prediction of the test set target values.    \n",
    "\n",
    "We then followed with an **CatBoostClassifier**, with the AUC score after training 500 iterations **0.86**.    \n",
    "\n",
    "We then experimented with a **XGBoost** model. In this case, se used the validation set for validation of the training model.  The best validation score obtained was   **0.984**. Then we used the model with the best training step, to predict target value from the test data; the AUC score obtained was **0.974**.\n"
   ]
  }
 ],
 "metadata": {
  "kaggle": {
   "accelerator": "none",
   "dataSources": [
    {
     "datasetId": 310,
     "sourceId": 23498,
     "sourceType": "datasetVersion"
    }
   ],
   "isGpuEnabled": false,
   "isInternetEnabled": false,
   "language": "python",
   "sourceType": "notebook"
  },
  "kernelspec": {
   "display_name": "Python 3 (ipykernel)",
   "language": "python",
   "name": "python3"
  },
  "language_info": {
   "codemirror_mode": {
    "name": "ipython",
    "version": 3
   },
   "file_extension": ".py",
   "mimetype": "text/x-python",
   "name": "python",
   "nbconvert_exporter": "python",
   "pygments_lexer": "ipython3",
   "version": "3.9.10"
  }
 },
 "nbformat": 4,
 "nbformat_minor": 4
}
